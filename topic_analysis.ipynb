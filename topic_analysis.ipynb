{
 "cells": [
  {
   "cell_type": "code",
   "execution_count": 8,
   "metadata": {
    "scrolled": true
   },
   "outputs": [],
   "source": [
    "#ntlk imports\n",
    "import nltk\n",
    "from nltk import sent_tokenize,word_tokenize \n",
    "from nltk.stem import WordNetLemmatizer\n",
    "from nltk.stem.porter import PorterStemmer\n",
    "\n",
    "#prettyprint\n",
    "import pprint \n",
    "\n",
    "#genism imports\n",
    "from gensim import corpora\n",
    "from gensim.models.ldamodel import LdaModel\n",
    "from gensim.parsing.preprocessing import STOPWORDS\n",
    "\n",
    "stopwords = [] # user defined stopwords\n",
    "\n",
    "def process_article(text):\n",
    "    sents = sent_tokenize(text)\n",
    "    sents = '. '.join([s.strip().replace(\"\\n\",\"\") for s in sents])\n",
    "    words = [word for word in sents.lower().split() \n",
    "             if word not in STOPWORDS and word.isalnum() and word not in stopwords]\n",
    "    wordnet_lemmatizer = WordNetLemmatizer()\n",
    "    words = [wordnet_lemmatizer.lemmatize(i) for i in words]\n",
    "    p_stemmer = PorterStemmer()\n",
    "    words = [p_stemmer.stem(i) for i in words]\n",
    "    return words\n",
    "\n",
    "def get_corpus(text):   \n",
    "    a_list = [process_article(text)]\n",
    "    dictionary = corpora.Dictionary(a_list)\n",
    "    return [dictionary.doc2bow(a) for a in a_list]\n",
    "\n",
    "def get_lda(a_dict,num_topics,num_passes):\n",
    "    texts = [c for a,b,c in a_dict.values()]\n",
    "    texts = [process_article(a) for a in texts]\n",
    "    dictionary = corpora.Dictionary(texts)\n",
    "    corpus = [dictionary.doc2bow(a) for a in texts]\n",
    "    lda = LdaModel(corpus,               #list of lists containing tuples (word index, word freq)\n",
    "                  id2word=dictionary,    #change nums back to words\n",
    "                  num_topics=num_topics, #need to set num topics\n",
    "                  passes=num_passes)\n",
    "    return lda\n",
    "\n",
    "def print_lda(lda,num_words=8):\n",
    "    pp = pprint.PrettyPrinter(indent=4)\n",
    "    pp.pprint(lda.print_topics(num_words=8)) #create prettyprint obj, 8 words for each topic\n",
    "\n",
    "def get_topic(new_article):\n",
    "    from operator import itemgetter\n",
    "    new_a = get_corpus(new_article)\n",
    "#     lda.get_document_topics(new_a[0],minimum_probability=0.05,per_word_topics=False)\n",
    "    return sorted(lda.get_document_topics(new_a[0],\n",
    "                    minimum_probability=0,per_word_topics=False),key=itemgetter(1),reverse=True)"
   ]
  },
  {
   "cell_type": "code",
   "execution_count": 11,
   "metadata": {
    "scrolled": true
   },
   "outputs": [
    {
     "name": "stdout",
     "output_type": "stream",
     "text": [
      "[   (   0,\n",
      "        '0.011*\"news\" + 0.010*\"report\" + 0.007*\"said\" + 0.007*\"stori\" + '\n",
      "        '0.006*\"guard\" + 0.006*\"tuesday\" + 0.006*\"ramo\" + 0.005*\"cb\"'),\n",
      "    (   1,\n",
      "        '0.010*\"said\" + 0.010*\"king\" + 0.009*\"trebek\" + 0.008*\"cb\" + '\n",
      "        '0.007*\"gayl\" + 0.007*\"want\" + 0.007*\"air\" + 0.006*\"interview\"')]\n"
     ]
    }
   ],
   "source": [
    "lda = get_lda(x,2,10)\n",
    "print_lda(lda)"
   ]
  },
  {
   "cell_type": "code",
   "execution_count": 12,
   "metadata": {},
   "outputs": [
    {
     "data": {
      "text/plain": [
       "[(1, 0.9920418), (0, 0.007958193)]"
      ]
     },
     "execution_count": 12,
     "metadata": {},
     "output_type": "execute_result"
    }
   ],
   "source": [
    "a = \"'A version of this article first appeared in the Reliable Sources newsletter. You can sign up for free right here.   This is an incredibly difficult time for Alex Trebek, his family members, and the extended Jeopardy! family that spans the globe. Trebek showed tremendous courage by recording a candid video message to fans about his stage 4 pancreatic cancer diagnosis. He even managed to work in a joke about being under contract for three more years. Trebek was diagnosed earlier this week, and his video was released on Wednesday afternoon.  In a time that is all about what is keeping us apart, we got tough news today about someone who has always brought America together, literally for decades, CNN\\'s Chris Cuomo said Wednesday night. I don\\'t care what your race, color, creed, gender, or bank account level, you\\'ve watched Jeopardy. Since 1984 Alex Trebek has been the smartest guy in our living rooms, teaching us, but more importantly, bringing us together. Trebek\\'s show puts facts first, Cuomo said, and we need him, now mo\"\n",
    "get_topic(a)"
   ]
  },
  {
   "cell_type": "code",
   "execution_count": null,
   "metadata": {},
   "outputs": [],
   "source": []
  }
 ],
 "metadata": {
  "kernelspec": {
   "display_name": "Python 3",
   "language": "python",
   "name": "python3"
  },
  "language_info": {
   "codemirror_mode": {
    "name": "ipython",
    "version": 3
   },
   "file_extension": ".py",
   "mimetype": "text/x-python",
   "name": "python",
   "nbconvert_exporter": "python",
   "pygments_lexer": "ipython3",
   "version": "3.7.1"
  }
 },
 "nbformat": 4,
 "nbformat_minor": 2
}
