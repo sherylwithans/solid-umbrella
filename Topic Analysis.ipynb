{
 "cells": [
  {
   "cell_type": "code",
   "execution_count": 1,
   "metadata": {},
   "outputs": [
    {
     "name": "stderr",
     "output_type": "stream",
     "text": [
      "C:\\Users\\Lora\\Anaconda3\\lib\\site-packages\\gensim\\utils.py:1212: UserWarning: detected Windows; aliasing chunkize to chunkize_serial\n",
      "  warnings.warn(\"detected Windows; aliasing chunkize to chunkize_serial\")\n"
     ]
    }
   ],
   "source": [
    "# web scraping imports\n",
    "from CNN import *\n",
    "from Reuters import *\n",
    "\n",
    "# install nltk, selenium, genism and bs4\n",
    "# install chromedriver and add to path\n",
    "\n",
    "# ntlk imports\n",
    "import nltk\n",
    "from nltk import sent_tokenize, word_tokenize\n",
    "from nltk.stem import WordNetLemmatizer\n",
    "from nltk.stem.porter import PorterStemmer\n",
    "\n",
    "# prettyprint\n",
    "import pprint\n",
    "\n",
    "# genism imports\n",
    "from gensim import corpora,models\n",
    "from gensim.models.ldamodel import LdaModel\n",
    "from gensim.parsing.preprocessing import STOPWORDS\n",
    "\n",
    "stopwords = []  # user defined stopwords\n",
    "\n",
    "def process_article(text):\n",
    "# for single article (text string), tokenize and lemmatize data, return list of word stems\n",
    "    sents = sent_tokenize(text)\n",
    "    sents = '. '.join([s.strip().replace(\"\\n\", \"\") for s in sents])\n",
    "    words = [word for word in sents.lower().split()\n",
    "             if word not in STOPWORDS and word.isalnum() and word not in stopwords]\n",
    "    wordnet_lemmatizer = WordNetLemmatizer()\n",
    "    words = [wordnet_lemmatizer.lemmatize(i) for i in words]\n",
    "    p_stemmer = PorterStemmer()\n",
    "    words = [p_stemmer.stem(i) for i in words]\n",
    "    return words\n",
    "\n",
    "\n",
    "def get_corpus(text):\n",
    "# for single article (text string), tokenize data and return corpus (list of lists)\n",
    "    a_list = [process_article(text)]\n",
    "    dictionary = corpora.Dictionary(a_list)\n",
    "    return [dictionary.doc2bow(a) for a in a_list]\n",
    "\n",
    "\n",
    "def tf_idf(corpus):\n",
    "    tfidf = models.TfidfModel(corpus)\n",
    "    corpus_tfidf = tfidf[corpus]\n",
    "    return corpus_tfidf\n",
    "\n",
    "\n",
    "def get_lda(news_list, num_topics, num_passes):\n",
    "# for list of articles ([date,text string] list), generate lda model\n",
    "    texts = [process_article(a[1]) for a in news_list]\n",
    "    dictionary = corpora.Dictionary(texts)\n",
    "    corpus = [dictionary.doc2bow(a) for a in texts]\n",
    "    tfidf = models.TfidfModel(corpus)\n",
    "    corpus_tfidf = tfidf[corpus]\n",
    "    lda = LdaModel(corpus_tfidf,  # list of lists containing tuples (word index, word freq)\n",
    "                   id2word=dictionary,  # change nums back to words\n",
    "                   num_topics=num_topics,  # need to set num topics\n",
    "                   passes=num_passes)\n",
    "    return lda,corpus_tfidf\n",
    " \n",
    "\n",
    "def print_lda(lda, num_words=8):\n",
    "# prints lda model coefficients, user can specify number of words to include for each topic\n",
    "    pp = pprint.PrettyPrinter(indent=4)\n",
    "    # create prettyprint obj, 8 words for each topic\n",
    "    pp.pprint(lda.print_topics(num_words=8))\n",
    "\n",
    "\n",
    "def get_topic(article_number):\n",
    "# for a single article (text string), given the order of the article on the loaded news list, returns list of relevant topics ordered by likelihood\n",
    "    from operator import itemgetter\n",
    "    #single_corpus = get_corpus(article) \n",
    "#     lda.get_document_topics(new_a[0],minimum_probability=0.05,per_word_topics=False)\n",
    "    return sorted(lda.get_document_topics(corpus_tfidf[article_number],minimum_probability=0, per_word_topics=False),\n",
    "                  key=itemgetter(1), reverse=True)\n",
    "\n"
   ]
  },
  {
   "cell_type": "code",
   "execution_count": 2,
   "metadata": {},
   "outputs": [],
   "source": [
    "import os\n",
    "import datetime\n",
    "\n",
    "def get_news(ticker,days):\n",
    "# retreives news from websites, may take a few minutes\n",
    "    get_cnn(ticker,days)\n",
    "    get_reuters(ticker,days)\n",
    "\n",
    "def get_date(filename,current_dir):\n",
    "# for given filename and relative directory, return date (datetime format)\n",
    "    try:\n",
    "        date = datetime.datetime.strptime(filename[:19],'%Y-%d-%m_%H.%M.%S')\n",
    "        return date\n",
    "    except:\n",
    "        pass\n",
    "    \n",
    "def get_file(filename,current_dir):\n",
    "# for given filename and relative directory, return file content (text string)\n",
    "    date = get_date(filename,current_dir)\n",
    "    if date:\n",
    "        with open(current_dir+\"/\"+filename,\"r\") as f:\n",
    "            text = f.read()\n",
    "        return text\n",
    "\n",
    "def load_news(ticker,days=3):\n",
    "# for given ticker, loads news from database and returns a list of [date,articles]\n",
    "# default parameter: load articles from recent three days\n",
    "    l = []\n",
    "    for news_source in os.listdir(\"news/\"+ticker):\n",
    "        current_dir = \"news/\"+ticker+\"/\"+news_source\n",
    "        for doc in os.listdir(current_dir):\n",
    "            date = get_date(doc,current_dir) \n",
    "            if date and date>=(datetime.datetime.now()-datetime.timedelta(days=days)):\n",
    "                l.append([date,get_file(doc,current_dir)])\n",
    "    return l"
   ]
  },
  {
   "cell_type": "code",
   "execution_count": 3,
   "metadata": {},
   "outputs": [],
   "source": [
    "def load_dict():\n",
    "    import os\n",
    "    def get_dict_words(dict_dir):\n",
    "        with open(dict_dir,'r') as f:\n",
    "            words = []\n",
    "            for line in f:\n",
    "                words.append(line.replace('\\n','').lower())\n",
    "        return words\n",
    "    \n",
    "    neg = get_dict_words(os.getcwd() + '\\\\dictionaries\\\\negative.txt')\n",
    "    pos = get_dict_words(os.getcwd() + '\\\\dictionaries\\\\positive.txt')\n",
    "    return neg,pos\n",
    "\n",
    "def emotion_analysis(text):\n",
    "    neg,pos = load_dict()\n",
    "    from nltk import word_tokenize\n",
    "    results = dict()\n",
    "    c1 = c2 = 0\n",
    "    for word in word_tokenize(text):\n",
    "        word = word.lower()\n",
    "        if word in neg:\n",
    "            c1 += 1\n",
    "        if word in pos:\n",
    "            c2 += 1\n",
    "    n = len(word_tokenize(text))\n",
    "    results['negative'] = c1/n\n",
    "    results['positive'] = c2/n\n",
    "    return results\n",
    "\n",
    "def emotion_analyzer(text_list):\n",
    "    import pandas as pd\n",
    "    df = pd.DataFrame(columns=['negative','positive'])\n",
    "    count = 1\n",
    "    for text in text_list:\n",
    "        a = emotion_analysis(text[1])\n",
    "        df.loc[count] = [a['negative'],a['positive']]\n",
    "        count += 1\n",
    "    return df"
   ]
  },
  {
   "cell_type": "code",
   "execution_count": 6,
   "metadata": {},
   "outputs": [],
   "source": [
    "get_news(\"fb\",5)"
   ]
  },
  {
   "cell_type": "code",
   "execution_count": 5,
   "metadata": {},
   "outputs": [
    {
     "name": "stdout",
     "output_type": "stream",
     "text": [
      "[   (   0,\n",
      "        '0.003*\"weight\" + 0.003*\"etf\" + 0.003*\"fb\" + 0.002*\"equal\" + '\n",
      "        '0.002*\"zack\" + 0.002*\"cap\" + 0.002*\"estim\" + 0.002*\"rank\"'),\n",
      "    (   1,\n",
      "        '0.004*\"data\" + 0.003*\"commiss\" + 0.003*\"advertis\" + 0.002*\"year\" + '\n",
      "        '0.002*\"user\" + 0.002*\"ad\" + 0.002*\"c\" + 0.002*\"relat\"'),\n",
      "    (   2,\n",
      "        '0.001*\"growth\" + 0.001*\"rise\" + 0.001*\"c\" + 0.001*\"free\" + '\n",
      "        '0.001*\"expens\" + 0.001*\"revenu\" + 0.001*\"year\" + 0.001*\"invest\"')]\n"
     ]
    }
   ],
   "source": [
    "news = load_news(\"fb\")\n",
    "\n",
    "# print lda model\n",
    "lda,corpus_tfidf = get_lda(news, 3, 10)\n",
    "print_lda(lda)\n",
    "\n",
    "# get topic for single document\n",
    "# a = \"'A version of this article first appeared in the Reliable Sources newsletter. You can sign up for free right here.   This is an incredibly difficult time for Alex Trebek, his family members, and the extended Jeopardy! family that spans the globe. Trebek showed tremendous courage by recording a candid video message to fans about his stage 4 pancreatic cancer diagnosis. He even managed to work in a joke about being under contract for three more years. Trebek was diagnosed earlier this week, and his video was released on Wednesday afternoon.  In a time that is all about what is keeping us apart, we got tough news today about someone who has always brought America together, literally for decades, CNN\\'s Chris Cuomo said Wednesday night. I don\\'t care what your race, color, creed, gender, or bank account level, you\\'ve watched Jeopardy. Since 1984 Alex Trebek has been the smartest guy in our living rooms, teaching us, but more importantly, bringing us together. Trebek\\'s show puts facts first, Cuomo said, and we need him, now mo\"\n",
    "# print(get_topic(a))\n"
   ]
  },
  {
   "cell_type": "code",
   "execution_count": 6,
   "metadata": {},
   "outputs": [
    {
     "data": {
      "text/plain": [
       "[(0, 0.8978563), (1, 0.05134239), (2, 0.0508013)]"
      ]
     },
     "execution_count": 6,
     "metadata": {},
     "output_type": "execute_result"
    }
   ],
   "source": [
    "get_topic(0)"
   ]
  },
  {
   "cell_type": "code",
   "execution_count": 7,
   "metadata": {},
   "outputs": [
    {
     "data": {
      "text/plain": [
       "[[datetime.datetime(2019, 9, 4, 0, 0),\n",
       "  'In this episode of ETF Spotlight, I talk with Nick Kalivas, Senior Equity Product Strategist at Invesco, about equal weighted ETFs.Market cap weighted ETFs are very popular with investors as they provide low cost, convenient ways to mimic the entire market or a particular segment of the market. However these ETFs are usually over-exposed to the largest and most expensive stocks. 02Nick explains the advantages and disadvantages of equal weighting versus market cap weighting.The Invesco S&P 500 Equal Weight ETF (RSP  -  Free Report)\\t is the most popular equal-weight ETF. Equal weighting of its constituents results in sector exposures that differ significantly from the market cap weighted index. What do investors need to know?Since its inception in April 2003, RSP has beaten the S&P 500 index by over 70% on a cumulative basis, thanks mainly to its greater focus on value and small size.Apple (AAPL  -  Free Report)\\t, Microsoft (MSFT  -  Free Report)\\t and Amazon.com (AMZN  -  Free Report)\\t together account for almost 11% of the S&P 500 but get only about 0.6% representation in RSP.Due to its underweighting to technology, the product lagged behind during periods of strong performance by tech heavyweights. Should investors expect it to perform like mid-cap ETFs with a value tilt? Should they expect it to outperform over longer holding periods?We also discuss if equal weighting makes more sense for large cap ETFs since mid and small cap ETFs do not have a lot of single stock risk.In November last year, Invesco launched S&P 500 Equal Weight Communication Services ETF (EWCO  -  Free Report)\\t. This is an interesting choice for investors looking for exposure to the new sector that was created after GICS realignment. The market cap weighted index for this new sector has almost 43% allocation to just two massive companiesFacebook (FB  -  Free Report)\\t and Googles Alphabet (GOOGL  -  Free Report)\\t.Invesco has an interesting suite of alternatively weighted ETFs. Is there any particular form of weighting that investors should consider in the current market environment?Finally, we discuss how investors should use equal weighted and other alternatively weighted ETFs in their portfolios.Please visit invesco.com to learn more about these ETFs and other Invesco products.02 Make sure to tune in for our next podcast and also subscribe. If you have any comments or questions, please email podcast@zacks.comWant key ETF info delivered straight to your inbox?Zacks free Fund Newsletter will brief you on top news and analysis, as well as top-performing ETFs, each week.02Get it free >>\\n'],\n",
       " [datetime.datetime(2019, 9, 4, 0, 0),\n",
       "  \"Facebook (FB  -  Free Report)\\t closed at $177.58 in the latest trading session, marking a +1.51% move from the prior day. This change outpaced the S&P 500's 0.61% loss on the day. Elsewhere, the Dow lost 0.72%, while the tech-heavy Nasdaq lost 0.56%.Prior to today's trading, shares of the social media company had gained 1.66% over the past month. This has lagged the Computer and Technology sector's gain of 7.18% and the S&P 500's gain of 5.68% in that time.Wall Street will be looking for positivity from FB as it approaches its next earnings report date. This is expected to be April 24, 2019. In that report, analysts expect FB to post earnings of $1.65 per share. This would mark a year-over-year decline of 2.37%. Meanwhile, our latest consensus estimate is calling for revenue of $14.96 billion, up 24.98% from the prior-year quarter.For the full year, our Zacks Consensus Estimates are projecting earnings of $7.54 per share and revenue of $68.84 billion, which would represent changes of -0.4% and +23.29%, respectively, from the prior year.It is also important to note the recent changes to analyst estimates for FB. These recent revisions tend to reflect the evolving nature of short-term business trends. As a result, we can interpret positive estimate revisions as a good sign for the company's business outlook.Research indicates that these estimate revisions are directly correlated with near-term share price momentum. Investors can capitalize on this by using the Zacks Rank. This model considers these estimate changes and provides a simple, actionable rating system.The Zacks Rank system, which ranges from #1 (Strong Buy) to #5 (Strong Sell), has an impressive outside-audited track record of outperformance, with #1 stocks generating an average annual return of +25% since 1988. Within the past 30 days, our consensus EPS projection has moved 0.08% lower. FB currently has a Zacks Rank of #3 (Hold).Digging into valuation, FB currently has a Forward P/E ratio of 23.2. Its industry sports an average Forward P/E of 25.5, so we one might conclude that FB is trading at a discount comparatively.Also, we should mention that FB has a PEG ratio of 1.28. This popular metric is similar to the widely-known P/E ratio, with the difference being that the PEG ratio also takes into account the company's expected earnings growth rate. The Internet - Services industry currently had an average PEG ratio of 3.34 as of yesterday's close.The Internet - Services industry is part of the Computer and Technology sector. This group has a Zacks Industry Rank of 194, putting it in the bottom 24% of all 250+ industries.The Zacks Industry Rank gauges the strength of our industry groups by measuring the average Zacks Rank of the individual stocks within the groups. Our research shows that the top 50% rated industries outperform the bottom half by a factor of 2 to 1.You can find more information on all of these metrics, and much more, on Zacks.com.\\n\"],\n",
       " [datetime.datetime(2019, 9, 4, 15, 3),\n",
       "  '2018 was tough for Facebook (NASDAQ:FB). Though the social network\\'s stock hit an all-time high of $218.62 last summer, it finished the year 26% lower than it started as investors worried about the company\\'s decelerating growth and rising operating costs amid its efforts to improve security and privacy on its platform.But sentiment toward Facebook has improved significantly this year, with shares up a whopping 36% year to date. This strong rebound, of course, puts immense pressure on the company\\'s first-quarter update. Investors will be looking for Facebook to show that its strong growth story is still intact.Here\\'s an overview of some specific areas to watch when Facebook reports results later this month.Facebook CEO Mark Zuckerberg at F8 2018. Image source: Facebook.Though Facebook\\'s revenue growth has been decelerating recently, growing 30% year over year in Q402compared to 49% growth in the first quarter of 2019,02the pace of deceleration moderated in Q4. In Q2 and Q3 of last year, for instance, Facebook\\'s year-over-year revenue growth rates were 42% and 33%, respectively. These growth rates represented a significant slowdown compared to 49% year-over-year growth in Q1. Fourth-quarter year-over-year revenue growth of 30%, therefore, may have been slower but it highlighted resilience in the company\\'s strong top-line growth.To this end, Facebook\\'s fourth-quarter revenue of $16.9 billion came in at the high end of management\\'s guidance and beat analysts\\' expectations.02Management had guided for fourth-quarter revenue to rise 24% to 30%.For Facebook\\'s first quarter, management said it expected revenue to rise 24% to 26% year over year. Given the market\\'s growing optimism for the stock recently, investors should look for revenue growth for the period to be close to the high end of this range.Facebook\\'s operating expenses jumped sharply in 2018, rising 51% year over year. Expenses climbed particularly rapidly toward the end of the year, soaring 62% in Q4 to $9.1 billion.\"In addition to continued investment in infrastructure, safety and security, and innovation, expenses were also driven by seasonal factors -- including marketing efforts,\" explained CFO David Wehner in the company\\'s fourth-quarter earnings call.Further investment in investment in infrastructure, safety, and security are expected to result in more sharp expense growth in 2019, with management guiding for expenses to rise 40% to 50% compared to 2018. Investors, therefore, should look for operating expenses to rise at a rate within this range.Finally, investors should check on Facebook\\'s user growth, particularly the company\\'s measure of monthly active users across its entire family of social networks, which includes Facebook, Instagram, Messenger, and WhatsApp. Facebook said 2.7 billion people used at least one of its apps in December, with more than 2 billion active daily. Approximately 2.5 billion and 2.6 billion users interacted with at least one of these apps in Q2 and Q3, respectively. Can this metric hit 2.8 billion in Q1?Facebook is scheduled to report its first-quarter results on Wednesday, April 24, after the market closes.\\n'],\n",
       " [datetime.datetime(2019, 9, 4, 17, 0),\n",
       "  'It\\'s no secret that Amazon.com (NASDAQ:AMZN) has mastered the art of online sales to become the leader in the space. Not content to rest on its laurels, the company has set out to disrupt a growing number of other industries. Amazon also leads the cloud-computing industry and the smart-speaker category, both of which it pioneered.These business successes have helped the stock reach new levels. Late last year, Amazon briefly became only the second U.S. public company to exceed a $1 trillion market cap.Now, Amazon has its sights set on advertising, and while it\\'s still very early in the game, the company is quickly becoming a force to be reckoned with. It appears that Amazon\\'s ad business is taking share from its biggest rival Google, a division of Alphabet (NASDAQ:GOOGL) (NASDAQ:GOOG).Image source: Getty Images.Advertisers are beginning to shift some of their ad dollars to Amazon at the expense of Google, according to a recent report in The Wall Street Journal. The world\\'s largest ad buyer, WPP PLC, reportedly spent an estimated $300 million on Amazon ads in 2018, up from between $100 million and $150 million in 2017.About 75% of that total came at the expense of Google, the report said. That\\'s still just a small part of the $3 billion-plus the agency spent on Google advertising last year, but it does show that the landscape is starting to shift in Amazon\\'s favor.02It also seems to confirm earlier reports that advertisers were moving a growing portion of their digital ad budgets from Google and Facebook (NASDAQ:FB) to Amazon, which helped the company become the third largest digital ad platform in the U.S.Google and Facebook are widely considered to have a virtual duopoly in the digital-ad market, garnering an estimated 38% and 21% of the market, respectively.02However, a look at Amazon\\'s advertising revenue shows just how quickly it\\'s growing -- up 117% year over year and topping $10 billion in 2018.PeriodQ1 18Q2 18Q3 18Q4 18Net sales$2.03 billion$2.19 billion$2.49 billion$3.39 billionYear-over-year growth139%132%122%95%Data source: Amazon\\'s Fourth-Quarter Financial Release.Google has been dealing with a number of controversies in recent years that have advertisers seeking other options. Earlier this year, YouTube -- the company\\'s video-sharing service -- terminated more than 400 channels after it was reported that child predators were making inappropriate comments on videos aimed at children.02The company faced several major boycotts by advertisers after their products were paired on YouTube with videos that promoted hate speech and extremist views.02The European Union (EU) has also assessed several record-breaking fines, alleging that Google continues to run afoul of European antitrust rules.Facebook has also seen its share of difficulties. The company is facing a growing list of allegations regarding the misuse of user data. Facebook has also been criticized for spreading hate speech and allowing political operatives in Russia to spread propaganda in an attempt to influence the U.S. presidential election.02Most recently, the company sparked outrage for live streaming a mass shooting in New Zealand.The negative spotlight on the two biggest digital advertisers has created an opening for Amazon, and it\\'s doing its best to leverage that opportunity.The company has a distinct advantage when it comes to advertising. More than half of consumers now begin their product search on Amazon rather than Google.02Once a customer searches for a product on the e-commerce website, advertised or \"promoted\" products appear first -- and consumers are only one click away from a purchase. This gives advertisers a captive audience within its targeted demographic that could produce a significant return on their advertising investments.The growing body of anecdotal evidence and the massive growth of the company\\'s ad revenue show that digital advertising is the next industry being disrupted by Amazon. Although it probably won\\'t be the last.\\n'],\n",
       " [datetime.datetime(2019, 10, 4, 0, 0),\n",
       "  \"Qualcomm Incorporated (QCOM  -  Free Report)\\t, a household name that is synonymous with smartphone chips, has decided to throw its hat in the ring for data center chips. Leveraging its mobile expertise, Qualcomm intends to replicate its success story within the data center chip market by offering AI-powered chips that form the fundamental building blocks of cloud computing.What Inspired the Strategic Plunge?Over the past few quarters, Qualcomm has been witnessing dwindling sales due to lackluster demand trends in the smartphone market and continued legal battles with Apple Inc. (AAPL  -  Free Report)\\t, which put its technology licensing business in jeopardy. Although the global smartphone market is expected to see muted growth over the next three to four years, major portion of this is likely to come from the low-cost emerging markets, weighing on Qualcomms margins. Moreover, the company has been facing stiff challenges from low-cost chip manufacturers like MediaTek and Rockchip as well as handset manufacturers SoC (System on Chip) projects such as Exynos by Samsung.In addition, there appears to be a huge demand-supply imbalance as semiconductor firms jostle to either optimize the traditional products on offer or develop new solutions altogether to meet the burgeoning data requirements of cloud computing firms like Alphabet Inc. (GOOGL  -  Free Report)\\t, Facebook, Inc. (FB  -  Free Report)\\t and Amazon.com, Inc. (AMZN  -  Free Report)\\t. The need for high-power AI-driven data center chips have surged exponentially as firms like Facebook reportedly makes 200 trillion predictions daily, making it unsustainable to cater to such demands with existing pool of products.It seems that the strategic decision to tap a new market segment, which is likely to swell to $17 billion by 2025, was largely driven by an innate desire to reverse the downtrend in business and capitalize on a huge revenue-generating potential.Game On?The rival firms have also taken a note of such gold mines and are geared up to take the bull by the horns. Intel Corporation (INTC  -  Free Report)\\t, Qualcomms nemesis in its fight against Apple, has taken recourse to inorganic growth strategies to gobble up smaller frays in the market to come up with different types of chips. In addition, it is ramping up the capabilities of its existing products to better handle the deluge of data.NVIDIA Corporation (NVDA  -  Free Report)\\t, another competitor of Qualcomm, has fortified its graphics chips for data center use by investing significantly in the business. The company expects High Performance Computing and data centers to witness tremendous growth opportunities over the long run. NVIDIA intends to focus on new growth catalysts for its data center business, such as inference, data science and machine learning techniques to strengthen its presence in this niche market.Moving ForwardAlthough Qualcomm is yet to provide the finer details of the upcoming product dubbed the Cloud A1, it has apparently ruffled the feathers of the industry players with proposed features of 50x more powerful in processing AI workloads as its flagship mobile chip. The chip is likely to be instrumental for facilitating inferencing work that helps to make informed decisions based on analysis of data streams such as digitized voice or images.Whether Qualcomm can indeed benefit from such a revolutionary product remains to be seen. For the time being, we can safely assume that it has created a ripple in the market, with rival firms probably noting the entry of the industry veteran with apprehension.Zacks' Top 10 Stocks for 2019In addition to the stocks discussed above, would you like to know about our 10 finest buy-and-holds for the year?Who wouldn't? Our annual Top 10s have beaten the market with amazing regularity. In 2018, while the market dropped -5.2%, the portfolio scored well into double-digits overall with individual stocks rising as high as +61.5%. And from 2012-2017, while the market boomed +126.3, Zacks' Top 10s reached an even more sensational +181.9%.See Latest Stocks Today >>\\n\"],\n",
       " [datetime.datetime(2019, 10, 4, 0, 0),\n",
       "  \"For Immediate ReleaseChicago, IL C April 10, 2019 C Today, Zacks Investment Ideas feature highlights Features:Lyft (LYFT  -  Free Report)\\t, Morgan Stanley (MS  -  Free Report)\\t, Apple (AAPL  -  Free Report)\\t and Facebook (FB  -  Free Report)\\t.IPO Enthusiasm Cools,02 but Apple & Facebook Roar Back to LifeThe highly anticipated Initial Public Offering of ride-sharing giant Lyft was promising at first, rallying well above the already-increased IPO price of $72/share and settling the first day up just a bit under 9%.Thats generally just about the right amount for a healthy offering because its a nice reward for early investors, but not such a huge gain that it appears that the offering company left big money on the table in an underpriced deal.Unfortunately, its been rough sailing since then for the former tech unicorn and the shares are currently trading 4% below the offering price C though still well above the valuation established by Lyfts final round of private financing in 2017.Lyft has threatened legal action against Morgan Stanley, accusing the brokerage of selling a derivative product that allowed insiders and short sellers to synthetically sell shares prior to the expiration of the lockup. Morgan denies encouraging shorting, but the fact that theres selling pressure on the shares at all C regardless of the vehicle C portends rough seas ahead for Lyft and potentially the rest of the IPO hopefuls as well.Lyfts performance has dampened expectations for the offerings of several other expected IPOs of highly valued tech companies - Uber, Airbnb and Pinterest, as well as dozens of other planned 2019 offerings.On Monday, Pinterest announced in its updated preliminary prospectus that it planned to sell 75 million shares at a range of $15-17/share, below prior expectations and roughly equivalent to its most recent private equity valuation.Analysts sometimes anticipate that in an environment when billions of dollars of new shares become available for trading for the first time, the price of established companies will suffer as cash is reallocated out of existing companies and into the new offering.Thats definitely not the case for tech giants Apple and Facebook, both of which have made significant recoveries from 2018 lows and are now in the midst of their own strong rallies, outpacing whats already been a hot start for the broad markets in 2019.After suffering from an apparent slowdown in iPhone sales (Apple) and privacy and regulatory concerns (Facebook), they have now gained 28% and 36% respectively in 2019 and investors have definitely regained their taste for shares of the biggest tech stocks.The takeaway seems to be that while its easy to get excited about the offering of shares of the private companies that have become household names while earning private equity valuations well north of a billion dollars, theres no substitute for earnings.Even after the recent rally, Apple still trades at a forward P/E ratio of 17X C roughly the same as the S&P 500 C and Facebook only slightly higher at 23X.Both Apple and Facebook report quarterly results at the end of the month, and for now, investors are showing a clear preference for the stability of big earnings, even as flashier new stocks become available.Today's Best Stocks from Zacks Would you like to see the updated picks from our best market-beating strategies? From 2017 through 2018, while the S&P 500 gained +15.8%, five of our screens returned +38.0%, +61.3%, +61.6%, +68.1%, and +98.3%. This outperformance has not just been a recent phenomenon. From 2000 C 2018, while the S&P averaged +4.8% per year, our top strategies averaged up to +56.2% per year. See their latest picks free >>Follow us on Twitter:02 http://twitter.com/ZacksResearchJoin us on Facebook:02 http://www.facebook.com/ZacksInvestmentResearchZacks Investment Research is under common control with affiliated entities (including a broker-dealer and an investment adviser), which may engage in transactions involving the foregoing securities for the clients of such affiliates.Media ContactZacks Investment Research800-767-3771 ext. 9339support@zacks.comhttp://www.zacks.comPast performance is no guarantee of future results. Inherent in any investment is the potential for loss.This material is being provided for informational purposes only and nothing herein constitutes investment, legal, accounting or tax advice, or a recommendation to buy, sell or hold a security. No recommendation or advice is being given as to whether any investment is suitable for a particular investor. It should not be assumed02that any investments in securities, companies, sectors or markets identified and described were or will be profitable. All information is current as of the date of herein and02is subject to change without notice. Any views or opinions expressed may not reflect those of the firm as a whole. Zacks Investment Research does not engage in investment banking, market making or asset management activities of any securities. These returns are from hypothetical portfolios consisting of stocks with Zacks Rank = 1 that were rebalanced monthly with zero transaction costs. These are not the returns of actual portfolios of stocks. The S&P 500 is an unmanaged index. Visit http://www.zacks.com/performance for information about the performance numbers displayed in this press release.\\n\"],\n",
       " [datetime.datetime(2019, 9, 4, 10, 9),\n",
       "  'BRUSSELS, April 9 (Reuters) - Facebook has revised the terms related to its users data following demands from the European Commission and consumer authorities, including taking responsibility when data has been mishandled by third parties.\\n'],\n",
       " [datetime.datetime(2019, 9, 4, 10, 23),\n",
       "  'BRUSSELS (Reuters) - Facebook has bowed to pressure from the European Commission and consumer authorities by revising its terms, making it clear what it does with users data and taking responsibility when data has been mishandled by third parties. The worlds largest social network is under fire on both sides of the Atlantic over a number of privacy-related issues that have exposed the passwords of millions of users. The European Commission said the changes in comprehensive and plain language mean users will now see how Facebook uses their data to develop profiling activities and target advertising to finance itself. Now, users will clearly understand that their data is used by the social network to sell targeted ads, Commission Justice Commissioner Vera Jourova said in a statement. The company will only unilaterally change terms and conditions where the changes are reasonable and will keep content deleted by users only when requested by enforcement authorities and up to 90 days.\\n']]"
      ]
     },
     "execution_count": 7,
     "metadata": {},
     "output_type": "execute_result"
    }
   ],
   "source": [
    "news"
   ]
  },
  {
   "cell_type": "code",
   "execution_count": 9,
   "metadata": {},
   "outputs": [
    {
     "data": {
      "text/html": [
       "<div>\n",
       "<style scoped>\n",
       "    .dataframe tbody tr th:only-of-type {\n",
       "        vertical-align: middle;\n",
       "    }\n",
       "\n",
       "    .dataframe tbody tr th {\n",
       "        vertical-align: top;\n",
       "    }\n",
       "\n",
       "    .dataframe thead th {\n",
       "        text-align: right;\n",
       "    }\n",
       "</style>\n",
       "<table border=\"1\" class=\"dataframe\">\n",
       "  <thead>\n",
       "    <tr style=\"text-align: right;\">\n",
       "      <th></th>\n",
       "      <th>negative</th>\n",
       "      <th>positive</th>\n",
       "    </tr>\n",
       "  </thead>\n",
       "  <tbody>\n",
       "    <tr>\n",
       "      <th>1</th>\n",
       "      <td>0.010417</td>\n",
       "      <td>0.019097</td>\n",
       "    </tr>\n",
       "    <tr>\n",
       "      <th>2</th>\n",
       "      <td>0.008392</td>\n",
       "      <td>0.008392</td>\n",
       "    </tr>\n",
       "    <tr>\n",
       "      <th>3</th>\n",
       "      <td>0.009636</td>\n",
       "      <td>0.014989</td>\n",
       "    </tr>\n",
       "    <tr>\n",
       "      <th>4</th>\n",
       "      <td>0.014286</td>\n",
       "      <td>0.008571</td>\n",
       "    </tr>\n",
       "    <tr>\n",
       "      <th>5</th>\n",
       "      <td>0.025000</td>\n",
       "      <td>0.000000</td>\n",
       "    </tr>\n",
       "    <tr>\n",
       "      <th>6</th>\n",
       "      <td>0.011905</td>\n",
       "      <td>0.000000</td>\n",
       "    </tr>\n",
       "  </tbody>\n",
       "</table>\n",
       "</div>"
      ],
      "text/plain": [
       "   negative  positive\n",
       "1  0.010417  0.019097\n",
       "2  0.008392  0.008392\n",
       "3  0.009636  0.014989\n",
       "4  0.014286  0.008571\n",
       "5  0.025000  0.000000\n",
       "6  0.011905  0.000000"
      ]
     },
     "execution_count": 9,
     "metadata": {},
     "output_type": "execute_result"
    }
   ],
   "source": [
    "emotion_analyzer(news)"
   ]
  },
  {
   "cell_type": "code",
   "execution_count": null,
   "metadata": {},
   "outputs": [],
   "source": []
  }
 ],
 "metadata": {
  "kernelspec": {
   "display_name": "Python 3",
   "language": "python",
   "name": "python3"
  },
  "language_info": {
   "codemirror_mode": {
    "name": "ipython",
    "version": 3
   },
   "file_extension": ".py",
   "mimetype": "text/x-python",
   "name": "python",
   "nbconvert_exporter": "python",
   "pygments_lexer": "ipython3",
   "version": "3.6.5"
  }
 },
 "nbformat": 4,
 "nbformat_minor": 2
}
