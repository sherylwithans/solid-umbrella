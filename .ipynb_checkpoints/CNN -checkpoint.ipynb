{
 "cells": [
  {
   "cell_type": "code",
   "execution_count": 1,
   "metadata": {},
   "outputs": [],
   "source": [
    "# !pip install selenium\n",
    "from selenium import webdriver\n",
    "from bs4 import BeautifulSoup\n",
    "\n",
    "import requests\n",
    "import re\n",
    "from datetime import datetime,timedelta\n",
    "\n",
    "from file_operations import *"
   ]
  },
  {
   "cell_type": "code",
   "execution_count": 2,
   "metadata": {},
   "outputs": [],
   "source": [
    "import os\n",
    "def make_dir(directory):\n",
    "    if not os.path.exists(directory):\n",
    "        os.makedirs(directory)\n",
    "        \n",
    "def write_f(filename,save_dir,text,log_text):\n",
    "    file_dir = str(save_dir)+\"/\"+str(filename).replace(\" \",\"_\").replace(\":\",\".\")+\".txt\"\n",
    "    if not os.path.isfile(file_dir):\n",
    "        f = open(file_dir, \"+w\")\n",
    "        f.write(text.encode(\"gb18030\").decode(\"utf-8\",errors=\"ignore\")+\"\\n\")\n",
    "        f.close() \n",
    "        log = open(str(save_dir)+\"/log.txt\",\"a\")\n",
    "        log.write(log_text+\"\\n\")\n",
    "        log.close()"
   ]
  },
  {
   "cell_type": "code",
   "execution_count": 3,
   "metadata": {},
   "outputs": [],
   "source": [
    "def get_selenium_html(url):\n",
    "    browser = webdriver.Chrome() #replace with .Firefox(), or with the browser of your choice\n",
    "    browser.get(url) #navigate to the page\n",
    "    innerHTML = browser.execute_script(\"return document.body.innerHTML\") #returns the inner HTML as a string\n",
    "    results_page = BeautifulSoup(innerHTML,'html.parser')\n",
    "    return results_page"
   ]
  },
  {
   "cell_type": "code",
   "execution_count": 4,
   "metadata": {},
   "outputs": [],
   "source": [
    "def get_bs4_html(url):\n",
    "    response = requests.get(url)\n",
    "    if response.status_code == 200:\n",
    "        try:\n",
    "            return BeautifulSoup(response.content,\"lxml\")\n",
    "        except:\n",
    "            return \"please check for typos\""
   ]
  },
  {
   "cell_type": "code",
   "execution_count": 5,
   "metadata": {},
   "outputs": [],
   "source": [
    "def get_datetime(url):\n",
    "    try:\n",
    "        dates = get_bs4_html(url).find('p',class_='update-time').text.strip().split(\",\")\n",
    "        p_time=r'[\\d: APM]+'\n",
    "        time = re.search(p_time,dates[0])\n",
    "        date = dates[1].strip().split(' ')[1:]\n",
    "        date.append(dates[2].strip())\n",
    "        date = ' '.join(date+[time.group().strip()])\n",
    "        return datetime.strptime(date,'%B %d %Y %I:%M %p')\n",
    "    except:\n",
    "        return None"
   ]
  },
  {
   "cell_type": "code",
   "execution_count": 6,
   "metadata": {},
   "outputs": [],
   "source": [
    "def search_by_ticker(ticker,num_days,save_dir,search_interval): \n",
    "    url = \"https://www.cnn.com/search/?q=\"+ticker\n",
    "    results_page = get_selenium_html(url)\n",
    "    \n",
    "    p=r' \\d+ '\n",
    "    count = results_page.find('div',class_='cnn-search__results-count').text\n",
    "    count = int(re.search(p,count).group().strip())\n",
    "\n",
    "    for i in range(count//search_interval+bool(count%search_interval)):\n",
    "        url = 'https://www.cnn.com/search/?q='+ticker+'&size=20&from='+str(i*search_interval)\n",
    "        results_list = get_selenium_html(url).find_all('div',class_='cnn-search__result-contents')\n",
    "        for i in results_list:\n",
    "            href = 'https:'+i.find('a').get('href') \n",
    "            pub_date = get_datetime(href)\n",
    "            if pub_date and pub_date<=(datetime.now()-timedelta(days=num_days)):\n",
    "                return\n",
    "            headline = i.find(class_=\"cnn-search__result-headline\").text.strip()    \n",
    "            body = i.find(class_=\"cnn-search__result-body\").text.strip()\n",
    "            write_f(str(pub_date),save_dir,body,f\"{pub_date},{headline},{href}\")\n"
   ]
  },
  {
   "cell_type": "code",
   "execution_count": 7,
   "metadata": {
    "scrolled": true
   },
   "outputs": [],
   "source": [
    "def search_by_company(ticker,num_days,save_dir):\n",
    "    url = \"https://money.cnn.com/quote/news/news.html?symb=\"+ticker\n",
    "    results_page = get_bs4_html(url)\n",
    "    table = results_page.find('table',class_='wsod_newsTable')\n",
    "    a_tags = [rd.get('href') for r in table.find_all('tr') for rd in r.find_all('a')]\n",
    "    for i in range(10):\n",
    "        href = a_tags[i]\n",
    "        if href[:20]==\"http://www.zacks.com\":\n",
    "            href = \"https\"+href[4:]\n",
    "            result_page = get_selenium_html(href)\n",
    "            pub_date = datetime.strptime(result_page.find(\"article\").find(\"time\").text,'%B %d, %Y')\n",
    "            if pub_date and pub_date<=(datetime.now()-timedelta(days=num_days)):\n",
    "                continue\n",
    "            headline = result_page.find(\"article\").find(\"h1\").text\n",
    "            pub_date = f\"{pub_date}_{identifier}\"\n",
    "            identifier = headline[:10].replace(\",\",\" \")\n",
    "            body = result_page.find(\"div\",class_=\"commentary_body\")\n",
    "            body = \"\".join([i.text.strip() for i in body.find_all('p')])\n",
    "            write_f(str(pub_date),save_dir,body,f\"{pub_date},{headline},{href}\")\n",
    "        elif href[:20]==\"https://www.fool.com\":\n",
    "            result_page = get_bs4_html(href)\n",
    "            pub_date = result_page.find(\"div\",class_=\"publication-date\").text.strip()\n",
    "            pub_date = datetime.strptime(pub_date,'%b %d, %Y at %I:%M%p')\n",
    "            if pub_date and pub_date<=(datetime.now()-timedelta(days=num_days)):\n",
    "                continue\n",
    "            headline = result_page.find(\"h1\").text\n",
    "            body = result_page.find(\"span\",class_=\"article-content\").find_all(\"p\")\n",
    "            body = \"\".join([i.text.strip() for i in body])\n",
    "            write_f(str(pub_date),save_dir,body,f\"{pub_date},{headline},{href}\")\n"
   ]
  },
  {
   "cell_type": "code",
   "execution_count": 11,
   "metadata": {},
   "outputs": [],
   "source": [
    "def get_cnn(ticker,days=3,search_interval=20):\n",
    "    # default search past 3 days, flipping 20 items per page\n",
    "    \n",
    "    ticker = ticker.upper()\n",
    "    \n",
    "    # make directory for ticker\n",
    "    save_dir = \"news/\"+ticker+\"/CNN\"\n",
    "    make_dir(save_dir)\n",
    "    \n",
    "    #search site by ticker\n",
    "    search_by_ticker(ticker,days,save_dir,search_interval)\n",
    "\n",
    "    #search site by company tag\n",
    "    search_by_company(ticker,days,save_dir)\n"
   ]
  },
  {
   "cell_type": "code",
   "execution_count": 12,
   "metadata": {},
   "outputs": [
    {
     "ename": "UnboundLocalError",
     "evalue": "local variable 'headline' referenced before assignment",
     "output_type": "error",
     "traceback": [
      "\u001b[1;31m---------------------------------------------------------------------------\u001b[0m",
      "\u001b[1;31mUnboundLocalError\u001b[0m                         Traceback (most recent call last)",
      "\u001b[1;32m<ipython-input-12-1dc381e2da8e>\u001b[0m in \u001b[0;36m<module>\u001b[1;34m\u001b[0m\n\u001b[1;32m----> 1\u001b[1;33m \u001b[0mx\u001b[0m \u001b[1;33m=\u001b[0m \u001b[0mget_cnn\u001b[0m\u001b[1;33m(\u001b[0m\u001b[1;34m'fb'\u001b[0m\u001b[1;33m,\u001b[0m\u001b[1;36m10\u001b[0m\u001b[1;33m)\u001b[0m\u001b[1;33m\u001b[0m\u001b[1;33m\u001b[0m\u001b[0m\n\u001b[0m",
      "\u001b[1;32m<ipython-input-11-339123efd749>\u001b[0m in \u001b[0;36mget_cnn\u001b[1;34m(ticker, days, search_interval)\u001b[0m\n\u001b[0;32m     12\u001b[0m \u001b[1;33m\u001b[0m\u001b[0m\n\u001b[0;32m     13\u001b[0m     \u001b[1;31m#search site by company tag\u001b[0m\u001b[1;33m\u001b[0m\u001b[1;33m\u001b[0m\u001b[1;33m\u001b[0m\u001b[0m\n\u001b[1;32m---> 14\u001b[1;33m     \u001b[0msearch_by_company\u001b[0m\u001b[1;33m(\u001b[0m\u001b[0mticker\u001b[0m\u001b[1;33m,\u001b[0m\u001b[0mdays\u001b[0m\u001b[1;33m,\u001b[0m\u001b[0msave_dir\u001b[0m\u001b[1;33m)\u001b[0m\u001b[1;33m\u001b[0m\u001b[1;33m\u001b[0m\u001b[0m\n\u001b[0m",
      "\u001b[1;32m<ipython-input-7-952bfd10c5ff>\u001b[0m in \u001b[0;36msearch_by_company\u001b[1;34m(ticker, num_days, save_dir)\u001b[0m\n\u001b[0;32m     12\u001b[0m             \u001b[1;32mif\u001b[0m \u001b[0mpub_date\u001b[0m \u001b[1;32mand\u001b[0m \u001b[0mpub_date\u001b[0m\u001b[1;33m<=\u001b[0m\u001b[1;33m(\u001b[0m\u001b[0mdatetime\u001b[0m\u001b[1;33m.\u001b[0m\u001b[0mnow\u001b[0m\u001b[1;33m(\u001b[0m\u001b[1;33m)\u001b[0m\u001b[1;33m-\u001b[0m\u001b[0mtimedelta\u001b[0m\u001b[1;33m(\u001b[0m\u001b[0mdays\u001b[0m\u001b[1;33m=\u001b[0m\u001b[0mnum_days\u001b[0m\u001b[1;33m)\u001b[0m\u001b[1;33m)\u001b[0m\u001b[1;33m:\u001b[0m\u001b[1;33m\u001b[0m\u001b[1;33m\u001b[0m\u001b[0m\n\u001b[0;32m     13\u001b[0m                 \u001b[1;32mcontinue\u001b[0m\u001b[1;33m\u001b[0m\u001b[1;33m\u001b[0m\u001b[0m\n\u001b[1;32m---> 14\u001b[1;33m             \u001b[0midentifier\u001b[0m \u001b[1;33m=\u001b[0m \u001b[0mheadline\u001b[0m\u001b[1;33m[\u001b[0m\u001b[1;33m:\u001b[0m\u001b[1;36m10\u001b[0m\u001b[1;33m]\u001b[0m\u001b[1;33m.\u001b[0m\u001b[0mreplace\u001b[0m\u001b[1;33m(\u001b[0m\u001b[1;34m\",\"\u001b[0m\u001b[1;33m,\u001b[0m\u001b[1;34m\" \"\u001b[0m\u001b[1;33m)\u001b[0m\u001b[1;33m\u001b[0m\u001b[1;33m\u001b[0m\u001b[0m\n\u001b[0m\u001b[0;32m     15\u001b[0m             \u001b[0mpub_date\u001b[0m \u001b[1;33m=\u001b[0m \u001b[1;34mf\"{pub_date}_{identifier}\"\u001b[0m\u001b[1;33m\u001b[0m\u001b[1;33m\u001b[0m\u001b[0m\n\u001b[0;32m     16\u001b[0m             \u001b[0mheadline\u001b[0m \u001b[1;33m=\u001b[0m \u001b[0mresult_page\u001b[0m\u001b[1;33m.\u001b[0m\u001b[0mfind\u001b[0m\u001b[1;33m(\u001b[0m\u001b[1;34m\"article\"\u001b[0m\u001b[1;33m)\u001b[0m\u001b[1;33m.\u001b[0m\u001b[0mfind\u001b[0m\u001b[1;33m(\u001b[0m\u001b[1;34m\"h1\"\u001b[0m\u001b[1;33m)\u001b[0m\u001b[1;33m.\u001b[0m\u001b[0mtext\u001b[0m\u001b[1;33m\u001b[0m\u001b[1;33m\u001b[0m\u001b[0m\n",
      "\u001b[1;31mUnboundLocalError\u001b[0m: local variable 'headline' referenced before assignment"
     ]
    }
   ],
   "source": [
    "x = get_cnn('fb',10)"
   ]
  },
  {
   "cell_type": "code",
   "execution_count": null,
   "metadata": {},
   "outputs": [],
   "source": []
  }
 ],
 "metadata": {
  "kernelspec": {
   "display_name": "Python 3",
   "language": "python",
   "name": "python3"
  },
  "language_info": {
   "codemirror_mode": {
    "name": "ipython",
    "version": 3
   },
   "file_extension": ".py",
   "mimetype": "text/x-python",
   "name": "python",
   "nbconvert_exporter": "python",
   "pygments_lexer": "ipython3",
   "version": "3.7.1"
  }
 },
 "nbformat": 4,
 "nbformat_minor": 2
}
